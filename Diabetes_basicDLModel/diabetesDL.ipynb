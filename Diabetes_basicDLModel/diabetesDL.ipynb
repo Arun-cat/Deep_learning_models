{
 "cells": [
  {
   "cell_type": "code",
   "id": "initial_id",
   "metadata": {
    "collapsed": true,
    "ExecuteTime": {
     "end_time": "2025-08-04T13:29:21.603877Z",
     "start_time": "2025-08-04T13:29:21.599014Z"
    }
   },
   "source": [
    "import pandas as pd\n",
    "from tensorflow.keras.models import Sequential\n",
    "from tensorflow.keras.layers import Dense, Input\n",
    "from sklearn.model_selection import train_test_split"
   ],
   "outputs": [],
   "execution_count": 22
  },
  {
   "metadata": {},
   "cell_type": "code",
   "source": [
    "data = pd.read_csv(r'D:\\Fast_API\\DL\\DAtaset\\archive\\diabetes.csv')\n",
    "data.info()"
   ],
   "id": "7da4cf59fa1ec0f6",
   "outputs": [],
   "execution_count": null
  },
  {
   "metadata": {},
   "cell_type": "code",
   "source": [
    "x= data.drop('Outcome',axis=1)\n",
    "y =data['Outcome']\n",
    "x_train,x_test,y_train,y_test = train_test_split(x,y,test_size=0.2,random_state=42)"
   ],
   "id": "15f7158b628b6846",
   "outputs": [],
   "execution_count": null
  },
  {
   "metadata": {
    "ExecuteTime": {
     "end_time": "2025-08-04T12:56:00.740660Z",
     "start_time": "2025-08-04T12:55:58.569338Z"
    }
   },
   "cell_type": "code",
   "source": [
    "model = Sequential([\n",
    "    Input(shape=(8,)),\n",
    "    Dense(4,activation='relu'),\n",
    "    Dense(16, activation='relu'),\n",
    "    Dense(32, activation='relu'),\n",
    "    Dense(1,activation='sigmoid')\n",
    "])\n",
    "\n",
    "model.compile(optimizer='Adam',loss='binary_crossentropy',metrics=['accuracy'])\n",
    "model.fit(x_train,y_train,epochs=10,verbose=1)"
   ],
   "id": "143687ce32e53f99",
   "outputs": [
    {
     "name": "stdout",
     "output_type": "stream",
     "text": [
      "Epoch 1/10\n",
      "\u001B[1m20/20\u001B[0m \u001B[32m━━━━━━━━━━━━━━━━━━━━\u001B[0m\u001B[37m\u001B[0m \u001B[1m1s\u001B[0m 4ms/step - accuracy: 0.6368 - loss: 4.7451 \n",
      "Epoch 2/10\n",
      "\u001B[1m20/20\u001B[0m \u001B[32m━━━━━━━━━━━━━━━━━━━━\u001B[0m\u001B[37m\u001B[0m \u001B[1m0s\u001B[0m 3ms/step - accuracy: 0.6091 - loss: 1.0305 \n",
      "Epoch 3/10\n",
      "\u001B[1m20/20\u001B[0m \u001B[32m━━━━━━━━━━━━━━━━━━━━\u001B[0m\u001B[37m\u001B[0m \u001B[1m0s\u001B[0m 4ms/step - accuracy: 0.6352 - loss: 0.6830 \n",
      "Epoch 4/10\n",
      "\u001B[1m20/20\u001B[0m \u001B[32m━━━━━━━━━━━━━━━━━━━━\u001B[0m\u001B[37m\u001B[0m \u001B[1m0s\u001B[0m 3ms/step - accuracy: 0.6678 - loss: 0.6549 \n",
      "Epoch 5/10\n",
      "\u001B[1m20/20\u001B[0m \u001B[32m━━━━━━━━━━━━━━━━━━━━\u001B[0m\u001B[37m\u001B[0m \u001B[1m0s\u001B[0m 3ms/step - accuracy: 0.6287 - loss: 0.6620 \n",
      "Epoch 6/10\n",
      "\u001B[1m20/20\u001B[0m \u001B[32m━━━━━━━━━━━━━━━━━━━━\u001B[0m\u001B[37m\u001B[0m \u001B[1m0s\u001B[0m 2ms/step - accuracy: 0.6580 - loss: 0.6279 \n",
      "Epoch 7/10\n",
      "\u001B[1m20/20\u001B[0m \u001B[32m━━━━━━━━━━━━━━━━━━━━\u001B[0m\u001B[37m\u001B[0m \u001B[1m0s\u001B[0m 3ms/step - accuracy: 0.6515 - loss: 0.6376 \n",
      "Epoch 8/10\n",
      "\u001B[1m20/20\u001B[0m \u001B[32m━━━━━━━━━━━━━━━━━━━━\u001B[0m\u001B[37m\u001B[0m \u001B[1m0s\u001B[0m 3ms/step - accuracy: 0.6564 - loss: 0.6292 \n",
      "Epoch 9/10\n",
      "\u001B[1m20/20\u001B[0m \u001B[32m━━━━━━━━━━━━━━━━━━━━\u001B[0m\u001B[37m\u001B[0m \u001B[1m0s\u001B[0m 3ms/step - accuracy: 0.6661 - loss: 0.6197 \n",
      "Epoch 10/10\n",
      "\u001B[1m20/20\u001B[0m \u001B[32m━━━━━━━━━━━━━━━━━━━━\u001B[0m\u001B[37m\u001B[0m \u001B[1m0s\u001B[0m 3ms/step - accuracy: 0.6808 - loss: 0.6117 \n"
     ]
    },
    {
     "data": {
      "text/plain": [
       "<keras.src.callbacks.history.History at 0x2b39db7ad10>"
      ]
     },
     "execution_count": 17,
     "metadata": {},
     "output_type": "execute_result"
    }
   ],
   "execution_count": 17
  },
  {
   "metadata": {
    "ExecuteTime": {
     "end_time": "2025-08-04T12:56:17.867982Z",
     "start_time": "2025-08-04T12:56:17.713867Z"
    }
   },
   "cell_type": "code",
   "source": [
    "pred = model.predit(x_test)\n",
    "print(pred)"
   ],
   "id": "73c99758604b231b",
   "outputs": [
    {
     "name": "stdout",
     "output_type": "stream",
     "text": [
      "\u001B[1m5/5\u001B[0m \u001B[32m━━━━━━━━━━━━━━━━━━━━\u001B[0m\u001B[37m\u001B[0m \u001B[1m0s\u001B[0m 12ms/step\n",
      "[[5.54811954e-01]\n",
      " [3.44895452e-01]\n",
      " [4.98551369e-01]\n",
      " [1.09649085e-01]\n",
      " [3.27958047e-01]\n",
      " [5.60428023e-01]\n",
      " [3.57686937e-01]\n",
      " [2.65761644e-01]\n",
      " [5.31588435e-01]\n",
      " [6.22928619e-01]\n",
      " [4.39535588e-01]\n",
      " [6.25673056e-01]\n",
      " [5.89641631e-01]\n",
      " [7.77791888e-02]\n",
      " [8.06302428e-02]\n",
      " [5.39543033e-01]\n",
      " [2.42556766e-01]\n",
      " [2.66633660e-01]\n",
      " [6.85163319e-01]\n",
      " [5.32044768e-01]\n",
      " [3.33564758e-01]\n",
      " [1.42600521e-01]\n",
      " [3.07127714e-01]\n",
      " [4.32678670e-01]\n",
      " [4.76385832e-01]\n",
      " [7.62145579e-01]\n",
      " [5.17062306e-01]\n",
      " [6.33059293e-02]\n",
      " [3.57416123e-01]\n",
      " [1.66048393e-01]\n",
      " [4.28866446e-02]\n",
      " [6.36828184e-01]\n",
      " [5.78744590e-01]\n",
      " [8.08525443e-01]\n",
      " [2.17040226e-01]\n",
      " [5.48591256e-01]\n",
      " [1.10670976e-01]\n",
      " [1.84479803e-01]\n",
      " [3.85469019e-01]\n",
      " [6.41195893e-01]\n",
      " [5.14172502e-02]\n",
      " [7.88910151e-01]\n",
      " [4.11719233e-01]\n",
      " [3.24844956e-01]\n",
      " [8.77047796e-03]\n",
      " [5.69345534e-01]\n",
      " [5.64179182e-01]\n",
      " [3.17208409e-01]\n",
      " [3.88830543e-01]\n",
      " [5.80873609e-01]\n",
      " [3.02993536e-01]\n",
      " [5.51978707e-01]\n",
      " [6.03542447e-01]\n",
      " [5.78443050e-01]\n",
      " [5.54219604e-01]\n",
      " [1.32619934e-02]\n",
      " [7.65958548e-01]\n",
      " [4.65150684e-01]\n",
      " [4.88967806e-01]\n",
      " [8.64449859e-01]\n",
      " [6.57410145e-01]\n",
      " [5.44309258e-01]\n",
      " [6.05915785e-01]\n",
      " [5.80215335e-01]\n",
      " [1.68451950e-01]\n",
      " [3.12047869e-01]\n",
      " [3.43157232e-01]\n",
      " [1.42499715e-01]\n",
      " [1.32086545e-01]\n",
      " [6.69086814e-01]\n",
      " [6.00398660e-01]\n",
      " [6.43768162e-02]\n",
      " [2.93880045e-01]\n",
      " [3.04658024e-04]\n",
      " [3.61663312e-01]\n",
      " [6.37766346e-02]\n",
      " [3.06039602e-01]\n",
      " [4.77126330e-01]\n",
      " [5.50885916e-01]\n",
      " [9.89036709e-02]\n",
      " [8.00943375e-01]\n",
      " [3.71175185e-02]\n",
      " [3.39599177e-02]\n",
      " [4.61515576e-01]\n",
      " [4.97162044e-01]\n",
      " [5.53034425e-01]\n",
      " [5.68797827e-01]\n",
      " [5.58215261e-01]\n",
      " [2.77179658e-01]\n",
      " [7.66124502e-02]\n",
      " [4.45878357e-01]\n",
      " [2.06102490e-01]\n",
      " [4.72474486e-01]\n",
      " [1.30916774e-01]\n",
      " [5.40225387e-01]\n",
      " [5.05253911e-01]\n",
      " [6.61887050e-01]\n",
      " [8.43736082e-02]\n",
      " [6.35913610e-01]\n",
      " [4.37509343e-02]\n",
      " [1.65678363e-03]\n",
      " [4.57481190e-04]\n",
      " [3.02276671e-01]\n",
      " [5.54966152e-01]\n",
      " [6.60174966e-01]\n",
      " [4.96087998e-01]\n",
      " [5.26355267e-01]\n",
      " [5.49702644e-01]\n",
      " [6.13950528e-02]\n",
      " [3.25271368e-01]\n",
      " [4.51260120e-01]\n",
      " [4.69167858e-01]\n",
      " [4.05270219e-01]\n",
      " [5.75073123e-01]\n",
      " [5.50329268e-01]\n",
      " [6.69159114e-01]\n",
      " [8.94198418e-01]\n",
      " [5.02032876e-01]\n",
      " [3.61632973e-01]\n",
      " [1.36806428e-01]\n",
      " [5.28739750e-01]\n",
      " [9.44564235e-04]\n",
      " [2.83876061e-01]\n",
      " [2.27440372e-01]\n",
      " [7.98706949e-01]\n",
      " [5.58161497e-01]\n",
      " [2.34872922e-01]\n",
      " [5.43842316e-01]\n",
      " [7.13007972e-02]\n",
      " [2.82340646e-01]\n",
      " [8.74533594e-01]\n",
      " [5.80370665e-01]\n",
      " [5.48857808e-01]\n",
      " [4.71074551e-01]\n",
      " [5.83142817e-01]\n",
      " [2.86685616e-01]\n",
      " [7.53185675e-02]\n",
      " [9.06609595e-02]\n",
      " [4.19670373e-01]\n",
      " [8.37366749e-03]\n",
      " [4.36506867e-01]\n",
      " [3.76710176e-01]\n",
      " [5.26003122e-01]\n",
      " [6.40464306e-01]\n",
      " [5.02906799e-01]\n",
      " [2.50793040e-01]\n",
      " [1.78222209e-01]\n",
      " [4.25497741e-01]\n",
      " [3.29093814e-01]\n",
      " [5.67159772e-01]\n",
      " [4.04085442e-02]\n",
      " [3.34018677e-01]\n",
      " [6.04416728e-01]\n",
      " [2.91967182e-03]]\n"
     ]
    }
   ],
   "execution_count": 18
  }
 ],
 "metadata": {
  "kernelspec": {
   "display_name": "Python 3",
   "language": "python",
   "name": "python3"
  },
  "language_info": {
   "codemirror_mode": {
    "name": "ipython",
    "version": 2
   },
   "file_extension": ".py",
   "mimetype": "text/x-python",
   "name": "python",
   "nbconvert_exporter": "python",
   "pygments_lexer": "ipython2",
   "version": "2.7.6"
  }
 },
 "nbformat": 4,
 "nbformat_minor": 5
}
