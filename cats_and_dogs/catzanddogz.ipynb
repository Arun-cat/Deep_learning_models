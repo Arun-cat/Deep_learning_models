{
 "cells": [
  {
   "cell_type": "code",
   "id": "initial_id",
   "metadata": {
    "collapsed": true,
    "ExecuteTime": {
     "end_time": "2025-08-06T10:42:23.925596Z",
     "start_time": "2025-08-06T10:42:23.913914Z"
    }
   },
   "source": [
    "from tensorflow.keras.preprocessing.image import ImageDataGenerator\n",
    "from tensorflow.keras.models import Sequential\n",
    "from tensorflow.keras.layers import Dense, Conv2D, Flatten, MaxPooling2D, Input, Dropout\n",
    "from tensorflow.keras.callbacks import EarlyStopping\n",
    "from tensorflow.keras.optimizers import Adam\n",
    "from tensorflow.keras.preprocessing import image\n",
    "import numpy as np"
   ],
   "outputs": [],
   "execution_count": 11
  },
  {
   "metadata": {
    "ExecuteTime": {
     "end_time": "2025-08-06T10:42:24.417122Z",
     "start_time": "2025-08-06T10:42:23.939563Z"
    }
   },
   "cell_type": "code",
   "source": [
    "train_gen = ImageDataGenerator(\n",
    "    rescale=1. / 255\n",
    ")\n",
    "test_gen = ImageDataGenerator(rescale=1. / 255)\n",
    "\n",
    "train = train_gen.flow_from_directory(\n",
    "    r'D:\\Fast_API\\DL\\DAtaset\\catzdogz\\training_set\\training_set',\n",
    "    target_size=(64, 64),\n",
    "    batch_size=32,\n",
    "    class_mode='binary'\n",
    ")\n",
    "\n",
    "test = test_gen.flow_from_directory(\n",
    "    r'D:\\Fast_API\\DL\\DAtaset\\catzdogz\\test_set\\test_set',\n",
    "    target_size=(64, 64),\n",
    "    batch_size=32,\n",
    "    class_mode='binary'\n",
    ")\n",
    "print(train.class_indices)\n",
    "print(test.class_indices)"
   ],
   "id": "6e2a54a36a16e62d",
   "outputs": [
    {
     "name": "stdout",
     "output_type": "stream",
     "text": [
      "Found 8005 images belonging to 2 classes.\n",
      "Found 2023 images belonging to 2 classes.\n",
      "{'cats': 0, 'dogs': 1}\n",
      "{'cats': 0, 'dogs': 1}\n"
     ]
    }
   ],
   "execution_count": 12
  },
  {
   "metadata": {
    "ExecuteTime": {
     "end_time": "2025-08-06T10:42:24.526622Z",
     "start_time": "2025-08-06T10:42:24.432827Z"
    }
   },
   "cell_type": "code",
   "source": [
    "model = Sequential([\n",
    "    Input(shape=(64, 64, 3)),\n",
    "    Conv2D(32, (3, 3), activation='relu'),\n",
    "    MaxPooling2D(2, 2),\n",
    "    Conv2D(64, (5, 5), activation='relu'),\n",
    "    MaxPooling2D(2, 2),\n",
    "    Conv2D(128, (3, 3), activation='relu'),\n",
    "    MaxPooling2D(2, 2),\n",
    "    Flatten(),\n",
    "    Dense(128, activation='relu'),\n",
    "    Dropout(0.5),\n",
    "    Dense(1, activation='sigmoid')\n",
    "])"
   ],
   "id": "c9658f2ad629e56f",
   "outputs": [],
   "execution_count": 13
  },
  {
   "metadata": {
    "ExecuteTime": {
     "end_time": "2025-08-06T10:45:35.984886Z",
     "start_time": "2025-08-06T10:42:24.536712Z"
    }
   },
   "cell_type": "code",
   "source": [
    "earlystop = EarlyStopping(patience=2, monitor='val_loss', restore_best_weights=True)\n",
    "\n",
    "optimizer = Adam()\n",
    "model.compile(optimizer=optimizer, loss='binary_crossentropy', metrics=['accuracy'])\n",
    "model.fit(train, validation_data=test, epochs=15, verbose=1, callbacks=[earlystop])"
   ],
   "id": "50879f78584552a",
   "outputs": [
    {
     "name": "stdout",
     "output_type": "stream",
     "text": [
      "Epoch 1/15\n",
      "\u001B[1m251/251\u001B[0m \u001B[32m━━━━━━━━━━━━━━━━━━━━\u001B[0m\u001B[37m\u001B[0m \u001B[1m25s\u001B[0m 91ms/step - accuracy: 0.5550 - loss: 0.6810 - val_accuracy: 0.6253 - val_loss: 0.6435\n",
      "Epoch 2/15\n",
      "\u001B[1m251/251\u001B[0m \u001B[32m━━━━━━━━━━━━━━━━━━━━\u001B[0m\u001B[37m\u001B[0m \u001B[1m23s\u001B[0m 93ms/step - accuracy: 0.6526 - loss: 0.6244 - val_accuracy: 0.6817 - val_loss: 0.6112\n",
      "Epoch 3/15\n",
      "\u001B[1m251/251\u001B[0m \u001B[32m━━━━━━━━━━━━━━━━━━━━\u001B[0m\u001B[37m\u001B[0m \u001B[1m24s\u001B[0m 97ms/step - accuracy: 0.7172 - loss: 0.5568 - val_accuracy: 0.7430 - val_loss: 0.5331\n",
      "Epoch 4/15\n",
      "\u001B[1m251/251\u001B[0m \u001B[32m━━━━━━━━━━━━━━━━━━━━\u001B[0m\u001B[37m\u001B[0m \u001B[1m24s\u001B[0m 95ms/step - accuracy: 0.7656 - loss: 0.4945 - val_accuracy: 0.7459 - val_loss: 0.5145\n",
      "Epoch 5/15\n",
      "\u001B[1m251/251\u001B[0m \u001B[32m━━━━━━━━━━━━━━━━━━━━\u001B[0m\u001B[37m\u001B[0m \u001B[1m24s\u001B[0m 94ms/step - accuracy: 0.7934 - loss: 0.4484 - val_accuracy: 0.7696 - val_loss: 0.4863\n",
      "Epoch 6/15\n",
      "\u001B[1m251/251\u001B[0m \u001B[32m━━━━━━━━━━━━━━━━━━━━\u001B[0m\u001B[37m\u001B[0m \u001B[1m24s\u001B[0m 94ms/step - accuracy: 0.8262 - loss: 0.3974 - val_accuracy: 0.8028 - val_loss: 0.4355\n",
      "Epoch 7/15\n",
      "\u001B[1m251/251\u001B[0m \u001B[32m━━━━━━━━━━━━━━━━━━━━\u001B[0m\u001B[37m\u001B[0m \u001B[1m24s\u001B[0m 94ms/step - accuracy: 0.8493 - loss: 0.3487 - val_accuracy: 0.7835 - val_loss: 0.5023\n",
      "Epoch 8/15\n",
      "\u001B[1m251/251\u001B[0m \u001B[32m━━━━━━━━━━━━━━━━━━━━\u001B[0m\u001B[37m\u001B[0m \u001B[1m24s\u001B[0m 94ms/step - accuracy: 0.8761 - loss: 0.2945 - val_accuracy: 0.7914 - val_loss: 0.5163\n"
     ]
    },
    {
     "data": {
      "text/plain": [
       "<keras.src.callbacks.history.History at 0x2031dec6950>"
      ]
     },
     "execution_count": 14,
     "metadata": {},
     "output_type": "execute_result"
    }
   ],
   "execution_count": 14
  },
  {
   "metadata": {
    "ExecuteTime": {
     "end_time": "2025-08-06T12:09:40.899937Z",
     "start_time": "2025-08-06T12:09:40.180319Z"
    }
   },
   "cell_type": "code",
   "source": [
    "path = r'C:\\Users\\aruna\\Downloads\\thistoo.jpg'\n",
    "img = image.load_img(path, target_size=(64, 64))\n",
    "img_arr = image.img_to_array(img)\n",
    "img_arr = img_arr / 255.0\n",
    "img_arr = np.expand_dims(img_arr, axis=0)\n",
    "\n",
    "pred = model.predict(img_arr)\n",
    "print(pred)\n",
    "if pred[0][0] > 0.5:\n",
    "    print(\"Dog\")\n",
    "else:\n",
    "    print(\"Cat\")"
   ],
   "id": "8499f10c36a8b1ec",
   "outputs": [
    {
     "name": "stdout",
     "output_type": "stream",
     "text": [
      "\u001B[1m1/1\u001B[0m \u001B[32m━━━━━━━━━━━━━━━━━━━━\u001B[0m\u001B[37m\u001B[0m \u001B[1m0s\u001B[0m 94ms/step\n",
      "[[0.65846694]]\n",
      "Dog\n"
     ]
    }
   ],
   "execution_count": 17
  },
  {
   "metadata": {
    "ExecuteTime": {
     "end_time": "2025-08-06T12:06:22.563605Z",
     "start_time": "2025-08-06T12:06:21.873614Z"
    }
   },
   "cell_type": "code",
   "source": "model.save(\"cat_dog_model.h5\")",
   "id": "d7b5fc1eb2e187ed",
   "outputs": [
    {
     "name": "stderr",
     "output_type": "stream",
     "text": [
      "WARNING:absl:You are saving your model as an HDF5 file via `model.save()` or `keras.saving.save_model(model)`. This file format is considered legacy. We recommend using instead the native Keras format, e.g. `model.save('my_model.keras')` or `keras.saving.save_model(model, 'my_model.keras')`. \n"
     ]
    }
   ],
   "execution_count": 16
  }
 ],
 "metadata": {
  "kernelspec": {
   "display_name": "Python 3",
   "language": "python",
   "name": "python3"
  },
  "language_info": {
   "codemirror_mode": {
    "name": "ipython",
    "version": 2
   },
   "file_extension": ".py",
   "mimetype": "text/x-python",
   "name": "python",
   "nbconvert_exporter": "python",
   "pygments_lexer": "ipython2",
   "version": "2.7.6"
  }
 },
 "nbformat": 4,
 "nbformat_minor": 5
}
